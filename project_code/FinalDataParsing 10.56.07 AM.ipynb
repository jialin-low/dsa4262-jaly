{
 "cells": [
  {
   "cell_type": "markdown",
   "metadata": {},
   "source": [
    "# Import packages"
   ]
  },
  {
   "cell_type": "code",
   "execution_count": null,
   "metadata": {},
   "outputs": [],
   "source": [
    "import pandas as pd\n",
    "import json"
   ]
  },
  {
   "cell_type": "markdown",
   "metadata": {},
   "source": [
    "# Data ingestion and manipulation"
   ]
  },
  {
   "cell_type": "code",
   "execution_count": 2,
   "metadata": {},
   "outputs": [],
   "source": [
    "database = []\n",
    "for line in open(\"dataset3.json\",'r'): # read input file line by line\n",
    "    data = json.loads(line)\n",
    "    a = list(data.keys())[0] # Transcript ID\n",
    "    b = list(data[a].keys())[0] # Transcript position\n",
    "    database.append(\n",
    "        [\n",
    "         a,\n",
    "         b,\n",
    "         list(data[a][b].values())[0] # nested listed of feature values\n",
    "        ]\n",
    "    )"
   ]
  },
  {
   "cell_type": "code",
   "execution_count": 3,
   "metadata": {},
   "outputs": [],
   "source": [
    "df = pd.DataFrame(database, columns = ['transcriptId','transcriptPosition','value']) \n",
    "df"
   ]
  },
  {
   "cell_type": "code",
   "execution_count": 5,
   "metadata": {},
   "outputs": [],
   "source": [
    "# explode function on the value column to retrieve each element of the nested list as a new row (as 1 list)\n",
    "df_exploded = df.explode('value').reset_index(drop=True) \n",
    "df_exploded"
   ]
  },
  {
   "cell_type": "code",
   "execution_count": 7,
   "metadata": {},
   "outputs": [],
   "source": [
    "df_flat = pd.concat([df_exploded.drop(columns = 'value'),\n",
    "    pd.DataFrame(df_exploded['value'].to_list(),columns=['v1','v2','v3','v4','v5','v6','v7','v8','v9'])],\n",
    "    # value column is still a list which we then explode it column-wise\n",
    "    axis = 1\n",
    "    )\n",
    "df_flat"
   ]
  },
  {
   "cell_type": "code",
   "execution_count": 8,
   "metadata": {},
   "outputs": [],
   "source": [
    "df_flat.to_csv(\"finaldata4oct.csv\") # save final dataset as csv for model inputs"
   ]
  }
 ],
 "metadata": {
  "kernelspec": {
   "display_name": "Python 3.8.6 64-bit",
   "language": "python",
   "name": "python3"
  },
  "language_info": {
   "codemirror_mode": {
    "name": "ipython",
    "version": 3
   },
   "file_extension": ".py",
   "mimetype": "text/x-python",
   "name": "python",
   "nbconvert_exporter": "python",
   "pygments_lexer": "ipython3",
   "version": "3.8.6"
  },
  "orig_nbformat": 4,
  "vscode": {
   "interpreter": {
    "hash": "aee8b7b246df8f9039afb4144a1f6fd8d2ca17a180786b69acc140d282b71a49"
   }
  }
 },
 "nbformat": 4,
 "nbformat_minor": 2
}
